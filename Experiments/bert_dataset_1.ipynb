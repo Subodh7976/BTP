{
 "cells": [
  {
   "cell_type": "markdown",
   "metadata": {},
   "source": [
    "## Data Ingestion"
   ]
  },
  {
   "cell_type": "code",
   "execution_count": 5,
   "metadata": {},
   "outputs": [],
   "source": [
    "import pandas as pd\n",
    "\n",
    "column_names = ['id', 'text', 'label']\n",
    "twitter_15_train = pd.read_csv(\"../twitter15/twitter15.train\", sep=\"\\t\", \n",
    "                               header=None, names=column_names)\n",
    "twitter_15_test = pd.read_csv(\"../twitter15/twitter15.test\", sep=\"\\t\", \n",
    "                              header=None, names=column_names)\n",
    "twitter_15_dev = pd.read_csv(\"../twitter15/twitter15.dev\", sep=\"\\t\", \n",
    "                             header=None, names=column_names)"
   ]
  },
  {
   "cell_type": "code",
   "execution_count": 6,
   "metadata": {},
   "outputs": [
    {
     "data": {
      "text/html": [
       "<div>\n",
       "<style scoped>\n",
       "    .dataframe tbody tr th:only-of-type {\n",
       "        vertical-align: middle;\n",
       "    }\n",
       "\n",
       "    .dataframe tbody tr th {\n",
       "        vertical-align: top;\n",
       "    }\n",
       "\n",
       "    .dataframe thead th {\n",
       "        text-align: right;\n",
       "    }\n",
       "</style>\n",
       "<table border=\"1\" class=\"dataframe\">\n",
       "  <thead>\n",
       "    <tr style=\"text-align: right;\">\n",
       "      <th></th>\n",
       "      <th>id</th>\n",
       "      <th>text</th>\n",
       "      <th>label</th>\n",
       "    </tr>\n",
       "  </thead>\n",
       "  <tbody>\n",
       "    <tr>\n",
       "      <th>0</th>\n",
       "      <td>724703995147751424</td>\n",
       "      <td>american family association gets 500,000 to si...</td>\n",
       "      <td>unverified</td>\n",
       "    </tr>\n",
       "    <tr>\n",
       "      <th>1</th>\n",
       "      <td>358591089462099968</td>\n",
       "      <td>this week's top story: george zimmerman wins f...</td>\n",
       "      <td>false</td>\n",
       "    </tr>\n",
       "    <tr>\n",
       "      <th>2</th>\n",
       "      <td>775672628493357057</td>\n",
       "      <td>clinton hides failing health? full disclosure ...</td>\n",
       "      <td>unverified</td>\n",
       "    </tr>\n",
       "    <tr>\n",
       "      <th>3</th>\n",
       "      <td>364589696573124609</td>\n",
       "      <td>fukushima: highly radioactive water seeping in...</td>\n",
       "      <td>false</td>\n",
       "    </tr>\n",
       "    <tr>\n",
       "      <th>4</th>\n",
       "      <td>549927969032916993</td>\n",
       "      <td>a transgender 17-year old left a suicide note ...</td>\n",
       "      <td>unverified</td>\n",
       "    </tr>\n",
       "  </tbody>\n",
       "</table>\n",
       "</div>"
      ],
      "text/plain": [
       "                   id                                               text  \\\n",
       "0  724703995147751424  american family association gets 500,000 to si...   \n",
       "1  358591089462099968  this week's top story: george zimmerman wins f...   \n",
       "2  775672628493357057  clinton hides failing health? full disclosure ...   \n",
       "3  364589696573124609  fukushima: highly radioactive water seeping in...   \n",
       "4  549927969032916993  a transgender 17-year old left a suicide note ...   \n",
       "\n",
       "        label  \n",
       "0  unverified  \n",
       "1       false  \n",
       "2  unverified  \n",
       "3       false  \n",
       "4  unverified  "
      ]
     },
     "execution_count": 6,
     "metadata": {},
     "output_type": "execute_result"
    }
   ],
   "source": [
    "twitter_15_train.head()"
   ]
  },
  {
   "cell_type": "code",
   "execution_count": 7,
   "metadata": {},
   "outputs": [
    {
     "data": {
      "text/plain": [
       "((1005, 3), (336, 3), (149, 3))"
      ]
     },
     "execution_count": 7,
     "metadata": {},
     "output_type": "execute_result"
    }
   ],
   "source": [
    "twitter_15_train.shape, twitter_15_test.shape, twitter_15_dev.shape"
   ]
  },
  {
   "cell_type": "code",
   "execution_count": 8,
   "metadata": {},
   "outputs": [],
   "source": [
    "twitter_16_train = pd.read_csv(\"../twitter16/twitter16.train\", sep=\"\\t\", \n",
    "                               header=None, names=column_names)\n",
    "twitter_16_test = pd.read_csv(\"../twitter16/twitter16.test\", sep=\"\\t\", \n",
    "                              header=None, names=column_names)\n",
    "twitter_16_dev = pd.read_csv(\"../twitter16/twitter16.dev\", sep=\"\\t\", \n",
    "                             header=None, names=column_names)"
   ]
  },
  {
   "cell_type": "code",
   "execution_count": 9,
   "metadata": {},
   "outputs": [
    {
     "data": {
      "text/html": [
       "<div>\n",
       "<style scoped>\n",
       "    .dataframe tbody tr th:only-of-type {\n",
       "        vertical-align: middle;\n",
       "    }\n",
       "\n",
       "    .dataframe tbody tr th {\n",
       "        vertical-align: top;\n",
       "    }\n",
       "\n",
       "    .dataframe thead th {\n",
       "        text-align: right;\n",
       "    }\n",
       "</style>\n",
       "<table border=\"1\" class=\"dataframe\">\n",
       "  <thead>\n",
       "    <tr style=\"text-align: right;\">\n",
       "      <th></th>\n",
       "      <th>id</th>\n",
       "      <th>text</th>\n",
       "      <th>label</th>\n",
       "    </tr>\n",
       "  </thead>\n",
       "  <tbody>\n",
       "    <tr>\n",
       "      <th>0</th>\n",
       "      <td>692929779696275456</td>\n",
       "      <td>ohio lawmakers want to know why state’s epa di...</td>\n",
       "      <td>non-rumor</td>\n",
       "    </tr>\n",
       "    <tr>\n",
       "      <th>1</th>\n",
       "      <td>693858804279201794</td>\n",
       "      <td>poor women in india are fighting for the right...</td>\n",
       "      <td>non-rumor</td>\n",
       "    </tr>\n",
       "    <tr>\n",
       "      <th>2</th>\n",
       "      <td>693648684857323521</td>\n",
       "      <td>spoiler alert: leo and kate were ridiculously ...</td>\n",
       "      <td>non-rumor</td>\n",
       "    </tr>\n",
       "    <tr>\n",
       "      <th>3</th>\n",
       "      <td>620367840902782976</td>\n",
       "      <td>translucent butterfly - beautiful! ' URL</td>\n",
       "      <td>false</td>\n",
       "    </tr>\n",
       "    <tr>\n",
       "      <th>4</th>\n",
       "      <td>693939356390653952</td>\n",
       "      <td>michael oher got a text from cam newton during...</td>\n",
       "      <td>non-rumor</td>\n",
       "    </tr>\n",
       "  </tbody>\n",
       "</table>\n",
       "</div>"
      ],
      "text/plain": [
       "                   id                                               text  \\\n",
       "0  692929779696275456  ohio lawmakers want to know why state’s epa di...   \n",
       "1  693858804279201794  poor women in india are fighting for the right...   \n",
       "2  693648684857323521  spoiler alert: leo and kate were ridiculously ...   \n",
       "3  620367840902782976           translucent butterfly - beautiful! ' URL   \n",
       "4  693939356390653952  michael oher got a text from cam newton during...   \n",
       "\n",
       "       label  \n",
       "0  non-rumor  \n",
       "1  non-rumor  \n",
       "2  non-rumor  \n",
       "3      false  \n",
       "4  non-rumor  "
      ]
     },
     "execution_count": 9,
     "metadata": {},
     "output_type": "execute_result"
    }
   ],
   "source": [
    "twitter_16_train.head()"
   ]
  },
  {
   "cell_type": "code",
   "execution_count": 10,
   "metadata": {},
   "outputs": [
    {
     "data": {
      "text/plain": [
       "((552, 3), (184, 3), (82, 3))"
      ]
     },
     "execution_count": 10,
     "metadata": {},
     "output_type": "execute_result"
    }
   ],
   "source": [
    "twitter_16_train.shape, twitter_16_test.shape, twitter_16_dev.shape"
   ]
  },
  {
   "cell_type": "code",
   "execution_count": 13,
   "metadata": {},
   "outputs": [],
   "source": [
    "twitter_train = pd.concat([twitter_15_train, twitter_16_train], ignore_index=True, axis=0)\n",
    "twitter_test = pd.concat([twitter_15_test, twitter_16_test], ignore_index=True, axis=0)\n",
    "twitter_dev = pd.concat([twitter_15_dev, twitter_15_test], ignore_index=True, axis=0)"
   ]
  },
  {
   "cell_type": "code",
   "execution_count": 14,
   "metadata": {},
   "outputs": [
    {
     "data": {
      "text/plain": [
       "((1557, 3), (520, 3), (485, 3))"
      ]
     },
     "execution_count": 14,
     "metadata": {},
     "output_type": "execute_result"
    }
   ],
   "source": [
    "twitter_train.shape, twitter_test.shape, twitter_dev.shape"
   ]
  },
  {
   "cell_type": "markdown",
   "metadata": {},
   "source": [
    "## Data Preparation"
   ]
  },
  {
   "cell_type": "code",
   "execution_count": 18,
   "metadata": {},
   "outputs": [
    {
     "name": "stderr",
     "output_type": "stream",
     "text": [
      "C:\\Users\\Acer\\AppData\\Local\\Temp\\ipykernel_18144\\3616623573.py:2: FutureWarning: Downcasting behavior in `replace` is deprecated and will be removed in a future version. To retain the old behavior, explicitly call `result.infer_objects(copy=False)`. To opt-in to the future behavior, set `pd.set_option('future.no_silent_downcasting', True)`\n",
      "  train_label = twitter_train['label'].replace(LABELS, [0, 1, 2, 3]).tolist()\n"
     ]
    }
   ],
   "source": [
    "LABELS = twitter_train['label'].unique().tolist()\n",
    "train_label = twitter_train['label'].replace(LABELS, [0, 1, 2, 3]).tolist()"
   ]
  },
  {
   "cell_type": "code",
   "execution_count": 15,
   "metadata": {},
   "outputs": [],
   "source": [
    "train_data = twitter_train['text'].tolist()"
   ]
  },
  {
   "cell_type": "code",
   "execution_count": 20,
   "metadata": {},
   "outputs": [
    {
     "name": "stderr",
     "output_type": "stream",
     "text": [
      "C:\\Users\\Acer\\AppData\\Local\\Temp\\ipykernel_18144\\3987848631.py:2: FutureWarning: Downcasting behavior in `replace` is deprecated and will be removed in a future version. To retain the old behavior, explicitly call `result.infer_objects(copy=False)`. To opt-in to the future behavior, set `pd.set_option('future.no_silent_downcasting', True)`\n",
      "  dev_label = twitter_dev['label'].replace(LABELS, [0, 1, 2, 3]).tolist()\n"
     ]
    }
   ],
   "source": [
    "dev_data = twitter_dev['text'].tolist()\n",
    "dev_label = twitter_dev['label'].replace(LABELS, [0, 1, 2, 3]).tolist()"
   ]
  },
  {
   "cell_type": "code",
   "execution_count": null,
   "metadata": {},
   "outputs": [],
   "source": [
    "import torch\n",
    "from torch import nn\n",
    "from torch.utils.data import Dataset, DataLoader\n",
    "\n",
    "class ClassificationDataset(Dataset):\n",
    "    def __init__(self, texts: list[str], labels: list[int], tokenizer, max_length: int):\n",
    "        self.texts = texts\n",
    "        self.labels = labels\n",
    "        self.tokenizer = tokenizer\n",
    "        self.max_length = max_length\n",
    "    \n",
    "    def __len__(self):\n",
    "        return len(self.texts)\n",
    "    \n",
    "    def __getitem__(self, idx):\n",
    "        text = self.texts[idx]\n",
    "        label = self.labels[idx]\n",
    "        \n",
    "        encoding = self.tokenizer.encode_plus(\n",
    "            text, \n",
    "            add_special_tokens=True, \n",
    "            max_length=self.max_length, \n",
    "            return_token_type_ids=False, \n",
    "            padding=\"max_length\",\n",
    "            truncation=True, \n",
    "            return_attention_mask=True, \n",
    "            return_tensors=\"pt\"\n",
    "        )\n",
    "        \n",
    "        return {\n",
    "            \"input_ids\": encoding['input_ids'].flatten(),\n",
    "            'attention_mask': encoding['attention_mask'].flatten(),\n",
    "            'label': torch.tensor(label, dtype=torch.long)\n",
    "        }"
   ]
  },
  {
   "cell_type": "markdown",
   "metadata": {},
   "source": [
    "## Model Preparation"
   ]
  },
  {
   "cell_type": "code",
   "execution_count": null,
   "metadata": {},
   "outputs": [],
   "source": []
  }
 ],
 "metadata": {
  "kernelspec": {
   "display_name": "venv",
   "language": "python",
   "name": "python3"
  },
  "language_info": {
   "codemirror_mode": {
    "name": "ipython",
    "version": 3
   },
   "file_extension": ".py",
   "mimetype": "text/x-python",
   "name": "python",
   "nbconvert_exporter": "python",
   "pygments_lexer": "ipython3",
   "version": "3.11.10"
  }
 },
 "nbformat": 4,
 "nbformat_minor": 2
}
